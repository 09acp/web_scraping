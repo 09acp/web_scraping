{
 "cells": [
  {
   "cell_type": "markdown",
   "metadata": {},
   "source": [
    "### LOGIN issue denies access to crawler"
   ]
  },
  {
   "cell_type": "raw",
   "metadata": {},
   "source": [
    "import pandas as pd \n",
    "import numpy as np\n",
    "import scrapy \n",
    "from scrapy.crawler import CrawlerProcess \n",
    "\n",
    "def run_spider(class_spider):\n",
    "    process = CrawlerProcess()\n",
    "    process.crawl(class_spider)\n",
    "    process.start()\n",
    "\n",
    "# In[]  TEXT FILE HAS SAVES ALL HTML - CANNOT FIND COURSE TITLES!\n",
    "class Spider_1 (scrapy.Spider):\n",
    "    name = 'titles_spidur_1'\n",
    "    \n",
    "    def start_requests(self):\n",
    "        urls = ['https://learn.datacamp.com/courses/all',\n",
    "                ]\n",
    "        for url in urls:\n",
    "            yield scrapy.Request(url=url,\n",
    "                                 callback=self.parse) \n",
    "            \n",
    "    def parse(self, response):\n",
    "        divs = response.css('div.course-block')\n",
    "        first_div = divs[0]\n",
    "        h4_text = first_div.css('h4::text').extract_first()\n",
    "        print( \"The text from the h4 element is:\", h4_text )\n",
    "        #titles = response.css('div.course-block>h4::text').extract()\n",
    "        #print(titles)\n",
    "        #txt_file = 'titles_spider_1.txt'   # cant read html\n",
    "        #with open(txt_file, 'wb') as f:\n",
    "        #   f.write( response.body )  # get entire body of html\n",
    "        \n",
    "run_spider(Spider_1) # function to run spider\n"
   ]
  },
  {
   "cell_type": "markdown",
   "metadata": {},
   "source": [
    "### Prints descriptions - Need console to run scrapy commands"
   ]
  },
  {
   "cell_type": "code",
   "execution_count": null,
   "metadata": {
    "scrolled": true
   },
   "outputs": [],
   "source": [
    "import pandas as pd \n",
    "import numpy as np\n",
    "import scrapy \n",
    "from scrapy.crawler import CrawlerProcess \n",
    "\n",
    "def run_spider(class_spider):\n",
    "    process = CrawlerProcess()\n",
    "    process.crawl(class_spider)\n",
    "    process.start()\n",
    "\n",
    "# In[]  TEXT FILE HAS SAVES ALL HTML - CANNOT FIND COURSE TITLES!\n",
    "class Spider_Digi_1 (scrapy.Spider):\n",
    "    name = 'Digi_1'\n",
    "    \n",
    "    def start_requests(self):\n",
    "        urls = ['https://www.digicom-eshop.com/',\n",
    "                ]\n",
    "        for url in urls:\n",
    "            yield scrapy.Request(url=url,\n",
    "                                 callback=self.parse) \n",
    "            \n",
    "    def parse(self, response):\n",
    "        descriptions = response.css('span.featured-box--title::text').extract()\n",
    "        print(descriptions)\n",
    "        \n",
    "run_spider(Spider_Digi_1) # function to run spider"
   ]
  },
  {
   "cell_type": "markdown",
   "metadata": {},
   "source": [
    "### Saves descriptions to CSV  - BROKEN"
   ]
  },
  {
   "cell_type": "raw",
   "metadata": {},
   "source": [
    "import pandas as pd \n",
    "import numpy as np\n",
    "import scrapy \n",
    "from scrapy.crawler import CrawlerProcess \n",
    "\n",
    "def run_spider(class_spider):\n",
    "    process = CrawlerProcess()\n",
    "    process.crawl(class_spider)\n",
    "    process.start()\n",
    "\n",
    "# In[]  TEXT FILE HAS SAVES ALL HTML - CANNOT FIND COURSE TITLES!\n",
    "class Spider_Digi_2 (scrapy.Spider):\n",
    "    name = 'Digi_2'\n",
    "    itemlist = []\n",
    "\n",
    "    def start_requests(self):\n",
    "        urls = ['https://www.digicom-eshop.com/',\n",
    "                ]\n",
    "        for url in urls:\n",
    "            yield scrapy.Request(url=url,\n",
    "                                 callback=self.parse) \n",
    "            \n",
    "    def parse(self, response):\n",
    "        descriptions = response.css('span.featured-box--title::text').extract()\n",
    "        for description in descriptions:\n",
    "            items={}\n",
    "            items['Description'] = description\n",
    "        self.itemlist.append(items)\n",
    "        print(descriptions)\n",
    "\n",
    "        with open(\"digi_1.csv\",\"w\", newline=\"\") as f:\n",
    "            writer = csv.DictWriter(f,['Description'])\n",
    "            writer.writeheader()\n",
    "            for data in self.itemlist:\n",
    "                writer.writerow(data)\n",
    "                \n",
    "run_spider(Spider_Digi_2) # function to run spider"
   ]
  },
  {
   "cell_type": "markdown",
   "metadata": {},
   "source": [
    "###  Saves descriptions to CSV - WORKS"
   ]
  },
  {
   "cell_type": "code",
   "execution_count": 1,
   "metadata": {},
   "outputs": [
    {
     "name": "stderr",
     "output_type": "stream",
     "text": [
      "2020-03-21 21:46:27 [scrapy.utils.log] INFO: Scrapy 2.0.0 started (bot: scrapybot)\n",
      "2020-03-21 21:46:27 [scrapy.utils.log] INFO: Versions: lxml 4.4.1.0, libxml2 2.9.9, cssselect 1.1.0, parsel 1.5.2, w3lib 1.20.0, Twisted 19.10.0, Python 3.7.4 (default, Aug  9 2019, 18:34:13) [MSC v.1915 64 bit (AMD64)], pyOpenSSL 19.0.0 (OpenSSL 1.1.1d  10 Sep 2019), cryptography 2.7, Platform Windows-10-10.0.18362-SP0\n",
      "2020-03-21 21:46:27 [scrapy.utils.log] DEBUG: Using reactor: twisted.internet.selectreactor.SelectReactor\n",
      "2020-03-21 21:46:27 [scrapy.crawler] INFO: Overridden settings:\n",
      "{}\n",
      "2020-03-21 21:46:27 [scrapy.extensions.telnet] INFO: Telnet Password: 05cd93edbfbf25e5\n",
      "2020-03-21 21:46:27 [scrapy.middleware] INFO: Enabled extensions:\n",
      "['scrapy.extensions.corestats.CoreStats',\n",
      " 'scrapy.extensions.telnet.TelnetConsole',\n",
      " 'scrapy.extensions.logstats.LogStats']\n",
      "2020-03-21 21:46:28 [scrapy.middleware] INFO: Enabled downloader middlewares:\n",
      "['scrapy.downloadermiddlewares.httpauth.HttpAuthMiddleware',\n",
      " 'scrapy.downloadermiddlewares.downloadtimeout.DownloadTimeoutMiddleware',\n",
      " 'scrapy.downloadermiddlewares.defaultheaders.DefaultHeadersMiddleware',\n",
      " 'scrapy.downloadermiddlewares.useragent.UserAgentMiddleware',\n",
      " 'scrapy.downloadermiddlewares.retry.RetryMiddleware',\n",
      " 'scrapy.downloadermiddlewares.redirect.MetaRefreshMiddleware',\n",
      " 'scrapy.downloadermiddlewares.httpcompression.HttpCompressionMiddleware',\n",
      " 'scrapy.downloadermiddlewares.redirect.RedirectMiddleware',\n",
      " 'scrapy.downloadermiddlewares.cookies.CookiesMiddleware',\n",
      " 'scrapy.downloadermiddlewares.httpproxy.HttpProxyMiddleware',\n",
      " 'scrapy.downloadermiddlewares.stats.DownloaderStats']\n",
      "2020-03-21 21:46:28 [scrapy.middleware] INFO: Enabled spider middlewares:\n",
      "['scrapy.spidermiddlewares.httperror.HttpErrorMiddleware',\n",
      " 'scrapy.spidermiddlewares.offsite.OffsiteMiddleware',\n",
      " 'scrapy.spidermiddlewares.referer.RefererMiddleware',\n",
      " 'scrapy.spidermiddlewares.urllength.UrlLengthMiddleware',\n",
      " 'scrapy.spidermiddlewares.depth.DepthMiddleware']\n",
      "2020-03-21 21:46:28 [scrapy.middleware] INFO: Enabled item pipelines:\n",
      "[]\n",
      "2020-03-21 21:46:28 [scrapy.core.engine] INFO: Spider opened\n",
      "2020-03-21 21:46:28 [scrapy.extensions.logstats] INFO: Crawled 0 pages (at 0 pages/min), scraped 0 items (at 0 items/min)\n",
      "2020-03-21 21:46:28 [scrapy.extensions.telnet] INFO: Telnet console listening on 127.0.0.1:6023\n",
      "2020-03-21 21:46:29 [scrapy.core.engine] DEBUG: Crawled (200) <GET https://www.digicom-eshop.com/> (referer: None)\n",
      "2020-03-21 21:46:29 [scrapy.core.engine] INFO: Closing spider (finished)\n",
      "2020-03-21 21:46:29 [scrapy.statscollectors] INFO: Dumping Scrapy stats:\n",
      "{'downloader/request_bytes': 221,\n",
      " 'downloader/request_count': 1,\n",
      " 'downloader/request_method_count/GET': 1,\n",
      " 'downloader/response_bytes': 12184,\n",
      " 'downloader/response_count': 1,\n",
      " 'downloader/response_status_count/200': 1,\n",
      " 'elapsed_time_seconds': 0.658354,\n",
      " 'finish_reason': 'finished',\n",
      " 'finish_time': datetime.datetime(2020, 3, 21, 19, 46, 29, 193783),\n",
      " 'log_count/DEBUG': 1,\n",
      " 'log_count/INFO': 10,\n",
      " 'response_received_count': 1,\n",
      " 'scheduler/dequeued': 1,\n",
      " 'scheduler/dequeued/memory': 1,\n",
      " 'scheduler/enqueued': 1,\n",
      " 'scheduler/enqueued/memory': 1,\n",
      " 'start_time': datetime.datetime(2020, 3, 21, 19, 46, 28, 535429)}\n",
      "2020-03-21 21:46:29 [scrapy.core.engine] INFO: Spider closed (finished)\n"
     ]
    },
    {
     "name": "stdout",
     "output_type": "stream",
     "text": [
      "['Uninterruptible Power Supplies UPS - Plug & Play', 'Batteries', 'UPS Accessories', 'Maintenance & Repair - Power Audit']\n"
     ]
    }
   ],
   "source": [
    "import pandas as pd \n",
    "import numpy as np\n",
    "import scrapy \n",
    "from scrapy.crawler import CrawlerProcess \n",
    "import csv\n",
    "\n",
    "def run_spider(class_spider):\n",
    "    process = CrawlerProcess()\n",
    "    process.crawl(class_spider)\n",
    "    process.start()\n",
    "\n",
    "# In[]  TEXT FILE HAS SAVES ALL HTML - CANNOT FIND COURSE TITLES!\n",
    "class Spider_Digi_3 (scrapy.Spider):\n",
    "    name = 'Digi_3'\n",
    "\n",
    "    def start_requests(self):\n",
    "        urls = ['https://www.digicom-eshop.com/',\n",
    "                ]\n",
    "        for url in urls:\n",
    "            yield scrapy.Request(url=url,\n",
    "                                 callback=self.parse) \n",
    "            \n",
    "    def parse(self, response):\n",
    "        descriptions = response.css('span.featured-box--title::text').extract()\n",
    "        print(descriptions)\n",
    "\n",
    "                \n",
    "        with open('digi_3.csv', 'w', newline=\"\") as f:\n",
    "            writer = csv.writer(f, delimiter='\\n')\n",
    "            writer.writerows([descriptions])    \n",
    "    \n",
    "    \n",
    "run_spider(Spider_Digi_3) # function to run spider"
   ]
  },
  {
   "cell_type": "code",
   "execution_count": null,
   "metadata": {},
   "outputs": [],
   "source": []
  },
  {
   "cell_type": "code",
   "execution_count": null,
   "metadata": {},
   "outputs": [],
   "source": []
  }
 ],
 "metadata": {
  "kernelspec": {
   "display_name": "Python 3",
   "language": "python",
   "name": "python3"
  },
  "language_info": {
   "codemirror_mode": {
    "name": "ipython",
    "version": 3
   },
   "file_extension": ".py",
   "mimetype": "text/x-python",
   "name": "python",
   "nbconvert_exporter": "python",
   "pygments_lexer": "ipython3",
   "version": "3.7.4"
  }
 },
 "nbformat": 4,
 "nbformat_minor": 2
}
